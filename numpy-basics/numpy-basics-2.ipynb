{
 "cells": [
  {
   "cell_type": "code",
   "execution_count": 1,
   "id": "3755e527-a299-4137-b0b9-5d70e0729212",
   "metadata": {},
   "outputs": [],
   "source": [
    "import numpy as np\n"
   ]
  },
  {
   "cell_type": "markdown",
   "id": "8f7f0385-a97a-4dee-89cc-899b90aebffa",
   "metadata": {},
   "source": [
    "## Stacking\n"
   ]
  },
  {
   "cell_type": "code",
   "execution_count": 2,
   "id": "23d90d7f-1166-4fb4-ac6b-3863485362c7",
   "metadata": {},
   "outputs": [],
   "source": [
    "a1 = np.arange(1,11).reshape(5,2)\n",
    "a2 = np.arange(11,21).reshape(5,2)\n"
   ]
  },
  {
   "cell_type": "code",
   "execution_count": 3,
   "id": "9a304212-8d25-490a-b8fd-408ccbf74a94",
   "metadata": {},
   "outputs": [
    {
     "data": {
      "text/plain": [
       "array([[ 1,  2],\n",
       "       [ 3,  4],\n",
       "       [ 5,  6],\n",
       "       [ 7,  8],\n",
       "       [ 9, 10],\n",
       "       [11, 12],\n",
       "       [13, 14],\n",
       "       [15, 16],\n",
       "       [17, 18],\n",
       "       [19, 20]])"
      ]
     },
     "execution_count": 3,
     "metadata": {},
     "output_type": "execute_result"
    }
   ],
   "source": [
    "np.vstack((a1,a2)) #Vertical stacking"
   ]
  },
  {
   "cell_type": "code",
   "execution_count": 4,
   "id": "13c369ac-4907-40a9-8e2b-743ff3ff1cac",
   "metadata": {},
   "outputs": [
    {
     "data": {
      "text/plain": [
       "array([[ 1,  2, 11, 12],\n",
       "       [ 3,  4, 13, 14],\n",
       "       [ 5,  6, 15, 16],\n",
       "       [ 7,  8, 17, 18],\n",
       "       [ 9, 10, 19, 20]])"
      ]
     },
     "execution_count": 4,
     "metadata": {},
     "output_type": "execute_result"
    }
   ],
   "source": [
    "#Horixzontal stacking\n",
    "a3 = np.hstack((a1,a2))\n",
    "a3"
   ]
  },
  {
   "cell_type": "markdown",
   "id": "2e256d62-8329-4aee-a087-e7208eee3993",
   "metadata": {},
   "source": [
    "# Spliting"
   ]
  },
  {
   "cell_type": "code",
   "execution_count": 5,
   "id": "0c97cde0-f84a-444a-aabe-92bf948a8445",
   "metadata": {},
   "outputs": [
    {
     "ename": "SyntaxError",
     "evalue": "invalid syntax (1741368525.py, line 2)",
     "output_type": "error",
     "traceback": [
      "\u001b[0;36m  Cell \u001b[0;32mIn[5], line 2\u001b[0;36m\u001b[0m\n\u001b[0;31m    np.hsplit(a3,2) ---> 2(no of equal parts to which divide)\u001b[0m\n\u001b[0m                      ^\u001b[0m\n\u001b[0;31mSyntaxError\u001b[0m\u001b[0;31m:\u001b[0m invalid syntax\n"
     ]
    }
   ],
   "source": [
    "#Hotizontal splitcing\n",
    "np.hsplit(a3,2) ---> 2(no of equal parts to which divide)"
   ]
  },
  {
   "cell_type": "code",
   "execution_count": null,
   "id": "f4434dfa-a379-48c8-a175-6b1d37811b41",
   "metadata": {},
   "outputs": [],
   "source": [
    "#Vertical splitcing\n",
    "np.vsplit(a3,5)"
   ]
  },
  {
   "cell_type": "markdown",
   "id": "55b037c6-667a-422c-9332-0f3e91bfb5ac",
   "metadata": {},
   "source": [
    "## Iterating\n"
   ]
  },
  {
   "cell_type": "code",
   "execution_count": null,
   "id": "6e8cfdb3-2077-40ed-b3cf-7535592e928f",
   "metadata": {},
   "outputs": [],
   "source": [
    "ind1 = np.arange(12)\n",
    "for i in ind1:\n",
    "    print(i)"
   ]
  },
  {
   "cell_type": "code",
   "execution_count": null,
   "id": "b1d45090-bd67-4a06-be35-96e6ac86952e",
   "metadata": {},
   "outputs": [],
   "source": [
    "for i in a1:\n",
    "    print(i)"
   ]
  },
  {
   "cell_type": "code",
   "execution_count": null,
   "id": "dd16b2ea-bcd6-477e-8583-35e6e147d6d6",
   "metadata": {},
   "outputs": [],
   "source": [
    "for i in np.nditer(a2):\n",
    "    print(i)"
   ]
  },
  {
   "cell_type": "markdown",
   "id": "491f72bc-3ddc-4d3b-8018-9d8c49bcd2bd",
   "metadata": {},
   "source": [
    "## Reshaping"
   ]
  },
  {
   "cell_type": "code",
   "execution_count": null,
   "id": "344c5ae1-2805-43e8-ae46-17aa017bffad",
   "metadata": {},
   "outputs": [],
   "source": [
    "np.transpose(a2)\n",
    "a2.T"
   ]
  },
  {
   "cell_type": "code",
   "execution_count": null,
   "id": "fdd5536d-072b-4a08-b2cf-9dfa3799f5a1",
   "metadata": {},
   "outputs": [],
   "source": [
    "a2.ravel() #Covert matrix/tensor to 1D array"
   ]
  },
  {
   "cell_type": "code",
   "execution_count": null,
   "id": "b595916b-006f-4145-849a-02655574ee3a",
   "metadata": {},
   "outputs": [],
   "source": []
  }
 ],
 "metadata": {
  "kernelspec": {
   "display_name": "Python (ml_env)",
   "language": "python",
   "name": "ml_env"
  },
  "language_info": {
   "codemirror_mode": {
    "name": "ipython",
    "version": 3
   },
   "file_extension": ".py",
   "mimetype": "text/x-python",
   "name": "python",
   "nbconvert_exporter": "python",
   "pygments_lexer": "ipython3",
   "version": "3.10.16"
  }
 },
 "nbformat": 4,
 "nbformat_minor": 5
}
