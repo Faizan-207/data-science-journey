{
 "cells": [
  {
   "cell_type": "code",
   "execution_count": 1,
   "id": "df9a46d5-d741-41cf-8cc3-3502804a89c1",
   "metadata": {},
   "outputs": [],
   "source": [
    "import numpy as np"
   ]
  },
  {
   "cell_type": "markdown",
   "id": "c3f621e5-cd47-4fe6-aab2-dbcc47fc492c",
   "metadata": {},
   "source": [
    "## Creating array"
   ]
  },
  {
   "cell_type": "code",
   "execution_count": 2,
   "id": "f66c58e0-1503-4bc1-b523-6a82504e4ef4",
   "metadata": {},
   "outputs": [
    {
     "name": "stdout",
     "output_type": "stream",
     "text": [
      "[1. 2. 3.] <class 'numpy.ndarray'> float64\n"
     ]
    }
   ],
   "source": [
    "a = np.array([1, 2, 3], dtype=float) \n",
    "print(a,type(a), a.dtype)  "
   ]
  },
  {
   "cell_type": "code",
   "execution_count": 3,
   "id": "93bdf6be-8ce3-4fe1-a282-e49145515324",
   "metadata": {},
   "outputs": [
    {
     "name": "stdout",
     "output_type": "stream",
     "text": [
      "[4 3 5 2 4 2 5 8 7 5]\n"
     ]
    }
   ],
   "source": [
    "array = np.array([4,3,5,2,4,2,5,8,7,5])\n",
    "print(array)"
   ]
  },
  {
   "cell_type": "code",
   "execution_count": 4,
   "id": "a3c18a64-3742-488c-815e-025ee3841c3b",
   "metadata": {},
   "outputs": [
    {
     "name": "stdout",
     "output_type": "stream",
     "text": [
      "[[0. 1.]\n",
      " [2. 3.]\n",
      " [4. 5.]\n",
      " [6. 7.]\n",
      " [8. 9.]]\n"
     ]
    }
   ],
   "source": [
    "array = np.arange(0,10,dtype=float)\n",
    "\n",
    "\n",
    "reshaped = array.reshape(-1,2)\n",
    "print(reshaped)"
   ]
  },
  {
   "cell_type": "code",
   "execution_count": 5,
   "id": "1eef969b-ab03-4fc7-9f2f-a4218fc95fd0",
   "metadata": {},
   "outputs": [
    {
     "name": "stdout",
     "output_type": "stream",
     "text": [
      "[[1. 1. 1. 1. 1.]\n",
      " [1. 1. 1. 1. 1.]\n",
      " [1. 1. 1. 1. 1.]]\n"
     ]
    }
   ],
   "source": [
    "ini = np.ones((3,5))\n",
    "print(ini)"
   ]
  },
  {
   "cell_type": "code",
   "execution_count": 6,
   "id": "77c50ad0-9d70-4657-8812-0f1e14cad30c",
   "metadata": {},
   "outputs": [
    {
     "name": "stdout",
     "output_type": "stream",
     "text": [
      "[[0. 0. 0. 0. 0.]\n",
      " [0. 0. 0. 0. 0.]\n",
      " [0. 0. 0. 0. 0.]\n",
      " [0. 0. 0. 0. 0.]]\n"
     ]
    }
   ],
   "source": [
    "ini = np.zeros((4,5))\n",
    "print(ini)"
   ]
  },
  {
   "cell_type": "code",
   "execution_count": 7,
   "id": "19d34c1e-b413-468c-9f13-d84b4af14434",
   "metadata": {},
   "outputs": [
    {
     "data": {
      "text/plain": [
       "array([[0.58555703, 0.39981443, 0.22021578],\n",
       "       [0.26574371, 0.52045792, 0.60464041],\n",
       "       [0.66441309, 0.35789133, 0.67032725],\n",
       "       [0.61823627, 0.89358384, 0.03181022]])"
      ]
     },
     "execution_count": 7,
     "metadata": {},
     "output_type": "execute_result"
    }
   ],
   "source": [
    "np.random.random((4,3))"
   ]
  },
  {
   "cell_type": "code",
   "execution_count": 8,
   "id": "efab72a7-39d4-4486-9feb-419db0da34e2",
   "metadata": {},
   "outputs": [
    {
     "name": "stdout",
     "output_type": "stream",
     "text": [
      "[-10.          -7.92857143  -5.85714286  -3.78571429  -1.71428571\n",
      "   0.35714286   2.42857143   4.5          6.57142857   8.64285714\n",
      "  10.71428571  12.78571429  14.85714286  16.92857143  19.        ]\n"
     ]
    }
   ],
   "source": [
    "print(np.linspace(-10,19,15))"
   ]
  },
  {
   "cell_type": "code",
   "execution_count": 9,
   "id": "7373437e-1829-479b-84f3-34b02f10e10d",
   "metadata": {},
   "outputs": [
    {
     "name": "stdout",
     "output_type": "stream",
     "text": [
      "[[1. 0. 0. 0. 0.]\n",
      " [0. 1. 0. 0. 0.]\n",
      " [0. 0. 1. 0. 0.]\n",
      " [0. 0. 0. 1. 0.]\n",
      " [0. 0. 0. 0. 1.]]\n"
     ]
    }
   ],
   "source": [
    "print(np.identity(5))"
   ]
  },
  {
   "cell_type": "markdown",
   "id": "1ec79d8d-7ea0-4233-9c84-60ee95e1d05b",
   "metadata": {},
   "source": [
    "## Array attributes"
   ]
  },
  {
   "cell_type": "code",
   "execution_count": 10,
   "id": "32b2e750-23a0-4e7b-8986-3cde25c3bd4f",
   "metadata": {},
   "outputs": [
    {
     "data": {
      "text/plain": [
       "array([0, 1, 2, 3, 4, 5, 6, 7, 8, 9])"
      ]
     },
     "execution_count": 10,
     "metadata": {},
     "output_type": "execute_result"
    }
   ],
   "source": [
    "a1 = np.arange(10)\n",
    "a1\n"
   ]
  },
  {
   "cell_type": "code",
   "execution_count": 11,
   "id": "7b961c39-7f21-49f2-891a-51fe267e5b85",
   "metadata": {},
   "outputs": [
    {
     "data": {
      "text/plain": [
       "array([[ 0.,  1.],\n",
       "       [ 2.,  3.],\n",
       "       [ 4.,  5.],\n",
       "       [ 6.,  7.],\n",
       "       [ 8.,  9.],\n",
       "       [10., 11.]])"
      ]
     },
     "execution_count": 11,
     "metadata": {},
     "output_type": "execute_result"
    }
   ],
   "source": [
    "a2 = np.arange(12,dtype=float).reshape(6,2)\n",
    "a2"
   ]
  },
  {
   "cell_type": "code",
   "execution_count": 12,
   "id": "30643f9f-c46c-4484-923a-2710d4e25336",
   "metadata": {},
   "outputs": [
    {
     "data": {
      "text/plain": [
       "array([[[0, 1],\n",
       "        [2, 3]],\n",
       "\n",
       "       [[4, 5],\n",
       "        [6, 7]]])"
      ]
     },
     "execution_count": 12,
     "metadata": {},
     "output_type": "execute_result"
    }
   ],
   "source": [
    "a3 = np.arange(8).reshape(2,2,2)\n",
    "a3"
   ]
  },
  {
   "cell_type": "code",
   "execution_count": 13,
   "id": "cb67a801-28ab-45f2-8765-54d1047443c3",
   "metadata": {},
   "outputs": [
    {
     "data": {
      "text/plain": [
       "2"
      ]
     },
     "execution_count": 13,
     "metadata": {},
     "output_type": "execute_result"
    }
   ],
   "source": [
    "a2.ndim"
   ]
  },
  {
   "cell_type": "code",
   "execution_count": 14,
   "id": "cd094920-d1c7-4119-b554-c1bff409651a",
   "metadata": {},
   "outputs": [
    {
     "data": {
      "text/plain": [
       "(6, 2)"
      ]
     },
     "execution_count": 14,
     "metadata": {},
     "output_type": "execute_result"
    }
   ],
   "source": [
    "a2.shape"
   ]
  },
  {
   "cell_type": "code",
   "execution_count": 15,
   "id": "6ac85820-4a6f-4ef3-aae2-460cf0364678",
   "metadata": {},
   "outputs": [
    {
     "data": {
      "text/plain": [
       "10"
      ]
     },
     "execution_count": 15,
     "metadata": {},
     "output_type": "execute_result"
    }
   ],
   "source": [
    "a1.size"
   ]
  },
  {
   "cell_type": "code",
   "execution_count": 16,
   "id": "c4cefc9c-228f-4698-87ff-844d0395fe42",
   "metadata": {},
   "outputs": [
    {
     "data": {
      "text/plain": [
       "8"
      ]
     },
     "execution_count": 16,
     "metadata": {},
     "output_type": "execute_result"
    }
   ],
   "source": [
    "a2.itemsize"
   ]
  },
  {
   "cell_type": "code",
   "execution_count": 17,
   "id": "c591d094-ad4f-4257-b675-36c4cdb83d05",
   "metadata": {},
   "outputs": [
    {
     "data": {
      "text/plain": [
       "dtype('int64')"
      ]
     },
     "execution_count": 17,
     "metadata": {},
     "output_type": "execute_result"
    }
   ],
   "source": [
    "a1.dtype"
   ]
  },
  {
   "cell_type": "markdown",
   "id": "35e91856-dd52-42ec-be63-5d2a5b67b7c7",
   "metadata": {},
   "source": [
    "## Changing datatype"
   ]
  },
  {
   "cell_type": "code",
   "execution_count": 18,
   "id": "6896e513-7e33-4448-beb9-b1ff1ff28feb",
   "metadata": {},
   "outputs": [
    {
     "data": {
      "text/plain": [
       "array([[ 0,  1],\n",
       "       [ 2,  3],\n",
       "       [ 4,  5],\n",
       "       [ 6,  7],\n",
       "       [ 8,  9],\n",
       "       [10, 11]], dtype=int32)"
      ]
     },
     "execution_count": 18,
     "metadata": {},
     "output_type": "execute_result"
    }
   ],
   "source": [
    "a2.astype(np.int32)"
   ]
  },
  {
   "cell_type": "markdown",
   "id": "9421c314-9c60-499c-92a2-38f94c288450",
   "metadata": {},
   "source": [
    "## Array functions\n"
   ]
  },
  {
   "cell_type": "code",
   "execution_count": 19,
   "id": "a883cc04-1112-4d61-a906-45e73316fcf9",
   "metadata": {},
   "outputs": [
    {
     "data": {
      "text/plain": [
       "array([[29., 34., 66.],\n",
       "       [13., 59., 22.],\n",
       "       [97., 57., 11.]])"
      ]
     },
     "execution_count": 19,
     "metadata": {},
     "output_type": "execute_result"
    }
   ],
   "source": [
    "a1 = np.random.random((3,3))\n",
    "a1 = np.round(a1*100)\n",
    "a1"
   ]
  },
  {
   "cell_type": "code",
   "execution_count": 20,
   "id": "6729e2a3-31a8-4a2f-8c58-7cf89a3fe1a4",
   "metadata": {},
   "outputs": [
    {
     "data": {
      "text/plain": [
       "97.0"
      ]
     },
     "execution_count": 20,
     "metadata": {},
     "output_type": "execute_result"
    }
   ],
   "source": [
    "# Max/Min/prod/Sum \n",
    "np.max(a1)"
   ]
  },
  {
   "cell_type": "code",
   "execution_count": 21,
   "id": "5cecb0a3-0701-4751-9ba4-8e47cd58a04a",
   "metadata": {},
   "outputs": [
    {
     "data": {
      "text/plain": [
       "array([29., 13., 11.])"
      ]
     },
     "execution_count": 21,
     "metadata": {},
     "output_type": "execute_result"
    }
   ],
   "source": [
    "np.min(a1,axis=1)\n",
    "# 0 -> Column and 1 -> Row"
   ]
  },
  {
   "cell_type": "code",
   "execution_count": 22,
   "id": "a7a01337-b519-49f1-94f5-9ac989348d30",
   "metadata": {},
   "outputs": [
    {
     "data": {
      "text/plain": [
       "43.111111111111114"
      ]
     },
     "execution_count": 22,
     "metadata": {},
     "output_type": "execute_result"
    }
   ],
   "source": [
    "# mean/medium/std/var\n",
    "np.mean(a1)\n"
   ]
  },
  {
   "cell_type": "code",
   "execution_count": 23,
   "id": "6252b640-3ad0-4b6f-8ec8-ccfa7fcb4513",
   "metadata": {},
   "outputs": [
    {
     "data": {
      "text/plain": [
       "array([[ 42,  48,  54],\n",
       "       [114, 136, 158],\n",
       "       [186, 224, 262]])"
      ]
     },
     "execution_count": 23,
     "metadata": {},
     "output_type": "execute_result"
    }
   ],
   "source": [
    "# Dot product of matrixes\n",
    "\n",
    "a1 = np.arange(12).reshape(3,4)\n",
    "a2 = np.arange(12).reshape(4,3)\n",
    "\n",
    "np.dot(a1,a2)"
   ]
  },
  {
   "cell_type": "code",
   "execution_count": 24,
   "id": "130ab97d-cc04-426e-b11f-cd28cd6084e1",
   "metadata": {},
   "outputs": [
    {
     "data": {
      "text/plain": [
       "array([[1.00000000e+00, 2.71828183e+00, 7.38905610e+00, 2.00855369e+01],\n",
       "       [5.45981500e+01, 1.48413159e+02, 4.03428793e+02, 1.09663316e+03],\n",
       "       [2.98095799e+03, 8.10308393e+03, 2.20264658e+04, 5.98741417e+04]])"
      ]
     },
     "execution_count": 24,
     "metadata": {},
     "output_type": "execute_result"
    }
   ],
   "source": [
    "#Log and exponent\n",
    "np.exp(a1)"
   ]
  },
  {
   "cell_type": "code",
   "execution_count": 25,
   "id": "b18938a5-5569-476c-8dad-e5e28e9ed748",
   "metadata": {},
   "outputs": [
    {
     "data": {
      "text/plain": [
       "array([[84., 53., 74.],\n",
       "       [99., 15., 77.]])"
      ]
     },
     "execution_count": 25,
     "metadata": {},
     "output_type": "execute_result"
    }
   ],
   "source": [
    "# Round floor ceil\n",
    "np.round(np.random.random((2,3))*100)"
   ]
  },
  {
   "cell_type": "markdown",
   "id": "ab026f6b-8a77-4f08-ba2f-538715f36f66",
   "metadata": {},
   "source": [
    "## Indexing and Slicing"
   ]
  },
  {
   "cell_type": "code",
   "execution_count": 26,
   "id": "36686c8b-95ea-4811-96a4-ae10c3626a28",
   "metadata": {},
   "outputs": [
    {
     "data": {
      "text/plain": [
       "array([ 0,  1,  2,  3,  4,  5,  6,  7,  8,  9, 10, 11])"
      ]
     },
     "execution_count": 26,
     "metadata": {},
     "output_type": "execute_result"
    }
   ],
   "source": [
    "ind1 = np.arange(12)\n",
    "ind1"
   ]
  },
  {
   "cell_type": "code",
   "execution_count": 27,
   "id": "d7e40c62-dfb4-4f08-ba20-d5189890aff7",
   "metadata": {},
   "outputs": [
    {
     "data": {
      "text/plain": [
       "array([[ 0,  1,  2,  3],\n",
       "       [ 4,  5,  6,  7],\n",
       "       [ 8,  9, 10, 11],\n",
       "       [12, 13, 14, 15]])"
      ]
     },
     "execution_count": 27,
     "metadata": {},
     "output_type": "execute_result"
    }
   ],
   "source": [
    "ind2 = np.arange(16).reshape(4,4)\n",
    "ind2"
   ]
  },
  {
   "cell_type": "code",
   "execution_count": 28,
   "id": "3ef01bbb-3869-4d82-8054-138dc180319e",
   "metadata": {},
   "outputs": [
    {
     "data": {
      "text/plain": [
       "array([[[ 0,  1,  2],\n",
       "        [ 3,  4,  5],\n",
       "        [ 6,  7,  8]],\n",
       "\n",
       "       [[ 9, 10, 11],\n",
       "        [12, 13, 14],\n",
       "        [15, 16, 17]]])"
      ]
     },
     "execution_count": 28,
     "metadata": {},
     "output_type": "execute_result"
    }
   ],
   "source": [
    "ind3 = np.arange(18).reshape(2,3,3)\n",
    "ind3"
   ]
  },
  {
   "cell_type": "code",
   "execution_count": 29,
   "id": "6f9c8cb4-1696-4a41-b70a-8aa20639e560",
   "metadata": {},
   "outputs": [
    {
     "data": {
      "text/plain": [
       "8"
      ]
     },
     "execution_count": 29,
     "metadata": {},
     "output_type": "execute_result"
    }
   ],
   "source": [
    "# indexing\n",
    "\n",
    "ind2[2,0] "
   ]
  },
  {
   "cell_type": "code",
   "execution_count": 30,
   "id": "cda6c94f-bcb4-406e-9b58-1e1bb787f5c6",
   "metadata": {},
   "outputs": [
    {
     "data": {
      "text/plain": [
       "7"
      ]
     },
     "execution_count": 30,
     "metadata": {},
     "output_type": "execute_result"
    }
   ],
   "source": [
    "ind3[0,2,1]"
   ]
  },
  {
   "cell_type": "code",
   "execution_count": 31,
   "id": "c6abdb1c-4c43-4fab-b8ec-09cac7224735",
   "metadata": {},
   "outputs": [
    {
     "data": {
      "text/plain": [
       "array([0, 1])"
      ]
     },
     "execution_count": 31,
     "metadata": {},
     "output_type": "execute_result"
    }
   ],
   "source": [
    "#Slicing\n",
    "ind1[0:2]"
   ]
  },
  {
   "cell_type": "code",
   "execution_count": 32,
   "id": "1248cd7f-2722-4902-9246-ab78acdd6d9b",
   "metadata": {},
   "outputs": [
    {
     "data": {
      "text/plain": [
       "array([[ 5,  6],\n",
       "       [ 9, 10],\n",
       "       [13, 14]])"
      ]
     },
     "execution_count": 32,
     "metadata": {},
     "output_type": "execute_result"
    }
   ],
   "source": [
    "ind2[1:,1:3]"
   ]
  },
  {
   "cell_type": "code",
   "execution_count": 33,
   "id": "0fd9149f-b2d1-44a6-b32a-4e77b1cef711",
   "metadata": {},
   "outputs": [
    {
     "data": {
      "text/plain": [
       "array([[10, 11],\n",
       "       [13, 14]])"
      ]
     },
     "execution_count": 33,
     "metadata": {},
     "output_type": "execute_result"
    }
   ],
   "source": [
    "ind3[1,0:2,1:]"
   ]
  },
  {
   "cell_type": "code",
   "execution_count": 34,
   "id": "015a01cc-8d48-4087-8f5b-aea78d4caa09",
   "metadata": {},
   "outputs": [
    {
     "data": {
      "text/plain": [
       "array([[ 0,  1,  2,  3],\n",
       "       [ 4,  5,  6,  7],\n",
       "       [ 8,  9, 10, 11],\n",
       "       [12, 13, 14, 15]])"
      ]
     },
     "execution_count": 34,
     "metadata": {},
     "output_type": "execute_result"
    }
   ],
   "source": [
    "ind2"
   ]
  },
  {
   "cell_type": "code",
   "execution_count": 35,
   "id": "d0e146ed-f7df-4383-8ccc-bb0d87d38cfb",
   "metadata": {},
   "outputs": [
    {
     "data": {
      "text/plain": [
       "array([[ 0,  3],\n",
       "       [12, 15]])"
      ]
     },
     "execution_count": 35,
     "metadata": {},
     "output_type": "execute_result"
    }
   ],
   "source": [
    "ind2[::3,::3]"
   ]
  }
 ],
 "metadata": {
  "kernelspec": {
   "display_name": "Python 3 (ipykernel)",
   "language": "python",
   "name": "python3"
  },
  "language_info": {
   "codemirror_mode": {
    "name": "ipython",
    "version": 3
   },
   "file_extension": ".py",
   "mimetype": "text/x-python",
   "name": "python",
   "nbconvert_exporter": "python",
   "pygments_lexer": "ipython3",
   "version": "3.12.7"
  }
 },
 "nbformat": 4,
 "nbformat_minor": 5
}
