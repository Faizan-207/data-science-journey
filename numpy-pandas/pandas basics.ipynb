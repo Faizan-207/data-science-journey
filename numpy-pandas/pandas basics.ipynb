{
 "cells": [
  {
   "cell_type": "code",
   "execution_count": 1,
   "id": "487e2978-5dc3-47e1-8ef6-23b6ce2d7b0b",
   "metadata": {},
   "outputs": [],
   "source": [
    "import numpy as np \n",
    "import pandas as pd"
   ]
  },
  {
   "cell_type": "code",
   "execution_count": 2,
   "id": "1f3b0425-9593-470a-8468-4466a8ee4811",
   "metadata": {},
   "outputs": [],
   "source": [
    "marks = [13,25,55,78,100]\n",
    "series_marks = pd.Series(marks)"
   ]
  },
  {
   "cell_type": "code",
   "execution_count": 3,
   "id": "c8432798-eb83-4f7f-a2d6-1e38875fc66c",
   "metadata": {},
   "outputs": [],
   "source": [
    "country = ['pakistan','India','China','USA','Germany']"
   ]
  },
  {
   "cell_type": "code",
   "execution_count": 4,
   "id": "d465fdd8-11c8-4fd5-b0a1-c2230709f948",
   "metadata": {},
   "outputs": [
    {
     "data": {
      "text/plain": [
       "0    pakistan\n",
       "1       India\n",
       "2       China\n",
       "3         USA\n",
       "4     Germany\n",
       "dtype: object"
      ]
     },
     "execution_count": 4,
     "metadata": {},
     "output_type": "execute_result"
    }
   ],
   "source": [
    "pd.Series(country)"
   ]
  },
  {
   "cell_type": "code",
   "execution_count": 5,
   "id": "778bf0a3-2d76-43b1-8124-e26dc72293e2",
   "metadata": {},
   "outputs": [
    {
     "data": {
      "text/plain": [
       "13     pakistan\n",
       "25        India\n",
       "55        China\n",
       "78          USA\n",
       "100     Germany\n",
       "Name: Details, dtype: object"
      ]
     },
     "execution_count": 5,
     "metadata": {},
     "output_type": "execute_result"
    }
   ],
   "source": [
    "#Custom indexing and name\n",
    "pd.Series(country,index=marks,name=\"Details\")"
   ]
  },
  {
   "cell_type": "code",
   "execution_count": 6,
   "id": "039a2538-4945-4949-a4fc-49670ca23925",
   "metadata": {},
   "outputs": [],
   "source": [
    "#Attributes\n"
   ]
  },
  {
   "cell_type": "code",
   "execution_count": 7,
   "id": "52c3bad8-8bd6-4554-aa27-692e18d90e77",
   "metadata": {},
   "outputs": [
    {
     "data": {
      "text/plain": [
       "RangeIndex(start=0, stop=5, step=1)"
      ]
     },
     "execution_count": 7,
     "metadata": {},
     "output_type": "execute_result"
    }
   ],
   "source": [
    "series_marks.size\n",
    "series_marks.is_unique\n",
    "series_marks.name\n",
    "series_marks.values\n",
    "series_marks.index\n",
    "\n",
    "\n",
    "\n"
   ]
  },
  {
   "cell_type": "markdown",
   "id": "84513849-6cd9-4e69-a829-6c6f8e0f0e9a",
   "metadata": {},
   "source": [
    "# Series using read_csv"
   ]
  },
  {
   "cell_type": "code",
   "execution_count": 10,
   "id": "5610ad26-33ac-4520-be85-2449cecd69c4",
   "metadata": {},
   "outputs": [
    {
     "data": {
      "text/plain": [
       "0      2017\n",
       "1      2017\n",
       "2      2017\n",
       "3      2017\n",
       "4      2017\n",
       "       ... \n",
       "631    2016\n",
       "632    2016\n",
       "633    2016\n",
       "634    2016\n",
       "635    2016\n",
       "Name: season, Length: 636, dtype: int64"
      ]
     },
     "execution_count": 10,
     "metadata": {},
     "output_type": "execute_result"
    }
   ],
   "source": [
    "vk = pd.read_csv('matches - matches.csv')\n",
    "vk['season']\n"
   ]
  },
  {
   "cell_type": "code",
   "execution_count": null,
   "id": "04eb38a2-8093-4a0d-bd52-d13696fa73a3",
   "metadata": {},
   "outputs": [],
   "source": []
  },
  {
   "cell_type": "code",
   "execution_count": null,
   "id": "f570533f-d2c5-489e-9bf0-b5746b4f3c88",
   "metadata": {},
   "outputs": [],
   "source": []
  }
 ],
 "metadata": {
  "kernelspec": {
   "display_name": "Python (ml_env)",
   "language": "python",
   "name": "ml_env"
  },
  "language_info": {
   "codemirror_mode": {
    "name": "ipython",
    "version": 3
   },
   "file_extension": ".py",
   "mimetype": "text/x-python",
   "name": "python",
   "nbconvert_exporter": "python",
   "pygments_lexer": "ipython3",
   "version": "3.10.16"
  }
 },
 "nbformat": 4,
 "nbformat_minor": 5
}
