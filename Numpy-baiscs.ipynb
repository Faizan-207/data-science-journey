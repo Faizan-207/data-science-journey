{
 "cells": [
  {
   "cell_type": "code",
   "execution_count": 1,
   "id": "df9a46d5-d741-41cf-8cc3-3502804a89c1",
   "metadata": {},
   "outputs": [],
   "source": [
    "import numpy as np"
   ]
  },
  {
   "cell_type": "markdown",
   "id": "c3f621e5-cd47-4fe6-aab2-dbcc47fc492c",
   "metadata": {},
   "source": [
    "## Creating array"
   ]
  },
  {
   "cell_type": "code",
   "execution_count": 2,
   "id": "f66c58e0-1503-4bc1-b523-6a82504e4ef4",
   "metadata": {},
   "outputs": [
    {
     "name": "stdout",
     "output_type": "stream",
     "text": [
      "[1. 2. 3.] <class 'numpy.ndarray'> float64\n"
     ]
    }
   ],
   "source": [
    "a = np.array([1, 2, 3], dtype=float) \n",
    "print(a,type(a), a.dtype)  "
   ]
  },
  {
   "cell_type": "code",
   "execution_count": 3,
   "id": "93bdf6be-8ce3-4fe1-a282-e49145515324",
   "metadata": {},
   "outputs": [
    {
     "name": "stdout",
     "output_type": "stream",
     "text": [
      "[4 3 5 2 4 2 5 8 7 5]\n"
     ]
    }
   ],
   "source": [
    "array = np.array([4,3,5,2,4,2,5,8,7,5])\n",
    "print(array)"
   ]
  },
  {
   "cell_type": "code",
   "execution_count": 4,
   "id": "a3c18a64-3742-488c-815e-025ee3841c3b",
   "metadata": {},
   "outputs": [
    {
     "name": "stdout",
     "output_type": "stream",
     "text": [
      "[[0. 1.]\n",
      " [2. 3.]\n",
      " [4. 5.]\n",
      " [6. 7.]\n",
      " [8. 9.]]\n"
     ]
    }
   ],
   "source": [
    "array = np.arange(0,10,dtype=float)\n",
    "\n",
    "\n",
    "reshaped = array.reshape(-1,2)\n",
    "print(reshaped)"
   ]
  },
  {
   "cell_type": "code",
   "execution_count": 5,
   "id": "1eef969b-ab03-4fc7-9f2f-a4218fc95fd0",
   "metadata": {},
   "outputs": [
    {
     "name": "stdout",
     "output_type": "stream",
     "text": [
      "[[1. 1. 1. 1. 1.]\n",
      " [1. 1. 1. 1. 1.]\n",
      " [1. 1. 1. 1. 1.]]\n"
     ]
    }
   ],
   "source": [
    "ini = np.ones((3,5))\n",
    "print(ini)"
   ]
  },
  {
   "cell_type": "code",
   "execution_count": 6,
   "id": "77c50ad0-9d70-4657-8812-0f1e14cad30c",
   "metadata": {},
   "outputs": [
    {
     "name": "stdout",
     "output_type": "stream",
     "text": [
      "[[0. 0. 0. 0. 0.]\n",
      " [0. 0. 0. 0. 0.]\n",
      " [0. 0. 0. 0. 0.]\n",
      " [0. 0. 0. 0. 0.]]\n"
     ]
    }
   ],
   "source": [
    "ini = np.zeros((4,5))\n",
    "print(ini)"
   ]
  },
  {
   "cell_type": "code",
   "execution_count": 7,
   "id": "19d34c1e-b413-468c-9f13-d84b4af14434",
   "metadata": {},
   "outputs": [
    {
     "data": {
      "text/plain": [
       "array([[0.34941118, 0.95316698, 0.04547249],\n",
       "       [0.93682454, 0.59460593, 0.04747564],\n",
       "       [0.51659553, 0.17903292, 0.64982119],\n",
       "       [0.84966731, 0.6367505 , 0.56901726]])"
      ]
     },
     "execution_count": 7,
     "metadata": {},
     "output_type": "execute_result"
    }
   ],
   "source": [
    "np.random.random((4,3))"
   ]
  },
  {
   "cell_type": "code",
   "execution_count": 8,
   "id": "efab72a7-39d4-4486-9feb-419db0da34e2",
   "metadata": {},
   "outputs": [
    {
     "name": "stdout",
     "output_type": "stream",
     "text": [
      "[-10.          -7.92857143  -5.85714286  -3.78571429  -1.71428571\n",
      "   0.35714286   2.42857143   4.5          6.57142857   8.64285714\n",
      "  10.71428571  12.78571429  14.85714286  16.92857143  19.        ]\n"
     ]
    }
   ],
   "source": [
    "print(np.linspace(-10,19,15))"
   ]
  },
  {
   "cell_type": "code",
   "execution_count": 9,
   "id": "7373437e-1829-479b-84f3-34b02f10e10d",
   "metadata": {},
   "outputs": [
    {
     "name": "stdout",
     "output_type": "stream",
     "text": [
      "[[1. 0. 0. 0. 0.]\n",
      " [0. 1. 0. 0. 0.]\n",
      " [0. 0. 1. 0. 0.]\n",
      " [0. 0. 0. 1. 0.]\n",
      " [0. 0. 0. 0. 1.]]\n"
     ]
    }
   ],
   "source": [
    "print(np.identity(5))"
   ]
  },
  {
   "cell_type": "markdown",
   "id": "1ec79d8d-7ea0-4233-9c84-60ee95e1d05b",
   "metadata": {},
   "source": [
    "## Array attributes"
   ]
  },
  {
   "cell_type": "code",
   "execution_count": 10,
   "id": "32b2e750-23a0-4e7b-8986-3cde25c3bd4f",
   "metadata": {},
   "outputs": [],
   "source": [
    "a1 = np.arange(10)"
   ]
  },
  {
   "cell_type": "code",
   "execution_count": 11,
   "id": "7b961c39-7f21-49f2-891a-51fe267e5b85",
   "metadata": {},
   "outputs": [],
   "source": [
    "a2 = np.arange(12,dtype=float).reshape(6,2)"
   ]
  },
  {
   "cell_type": "code",
   "execution_count": 12,
   "id": "30643f9f-c46c-4484-923a-2710d4e25336",
   "metadata": {},
   "outputs": [],
   "source": [
    "a3 = np.arange(8).reshape(2,2,2)"
   ]
  },
  {
   "cell_type": "code",
   "execution_count": 13,
   "id": "cb67a801-28ab-45f2-8765-54d1047443c3",
   "metadata": {},
   "outputs": [
    {
     "data": {
      "text/plain": [
       "2"
      ]
     },
     "execution_count": 13,
     "metadata": {},
     "output_type": "execute_result"
    }
   ],
   "source": [
    "a2.ndim"
   ]
  },
  {
   "cell_type": "code",
   "execution_count": 14,
   "id": "cd094920-d1c7-4119-b554-c1bff409651a",
   "metadata": {},
   "outputs": [
    {
     "data": {
      "text/plain": [
       "(6, 2)"
      ]
     },
     "execution_count": 14,
     "metadata": {},
     "output_type": "execute_result"
    }
   ],
   "source": [
    "a2.shape"
   ]
  },
  {
   "cell_type": "code",
   "execution_count": 15,
   "id": "6ac85820-4a6f-4ef3-aae2-460cf0364678",
   "metadata": {},
   "outputs": [
    {
     "data": {
      "text/plain": [
       "10"
      ]
     },
     "execution_count": 15,
     "metadata": {},
     "output_type": "execute_result"
    }
   ],
   "source": [
    "a1.size"
   ]
  },
  {
   "cell_type": "code",
   "execution_count": 16,
   "id": "c4cefc9c-228f-4698-87ff-844d0395fe42",
   "metadata": {},
   "outputs": [
    {
     "data": {
      "text/plain": [
       "8"
      ]
     },
     "execution_count": 16,
     "metadata": {},
     "output_type": "execute_result"
    }
   ],
   "source": [
    "a2.itemsize"
   ]
  },
  {
   "cell_type": "code",
   "execution_count": 17,
   "id": "c591d094-ad4f-4257-b675-36c4cdb83d05",
   "metadata": {},
   "outputs": [
    {
     "data": {
      "text/plain": [
       "dtype('int64')"
      ]
     },
     "execution_count": 17,
     "metadata": {},
     "output_type": "execute_result"
    }
   ],
   "source": [
    "a1.dtype"
   ]
  },
  {
   "cell_type": "markdown",
   "id": "35e91856-dd52-42ec-be63-5d2a5b67b7c7",
   "metadata": {},
   "source": [
    "## Changing datatype"
   ]
  },
  {
   "cell_type": "code",
   "execution_count": 18,
   "id": "6896e513-7e33-4448-beb9-b1ff1ff28feb",
   "metadata": {},
   "outputs": [
    {
     "data": {
      "text/plain": [
       "array([[ 0,  1],\n",
       "       [ 2,  3],\n",
       "       [ 4,  5],\n",
       "       [ 6,  7],\n",
       "       [ 8,  9],\n",
       "       [10, 11]], dtype=int32)"
      ]
     },
     "execution_count": 18,
     "metadata": {},
     "output_type": "execute_result"
    }
   ],
   "source": [
    "a2.astype(np.int32)"
   ]
  },
  {
   "cell_type": "markdown",
   "id": "9421c314-9c60-499c-92a2-38f94c288450",
   "metadata": {},
   "source": [
    "## Array functions\n"
   ]
  },
  {
   "cell_type": "code",
   "execution_count": 19,
   "id": "a883cc04-1112-4d61-a906-45e73316fcf9",
   "metadata": {},
   "outputs": [
    {
     "data": {
      "text/plain": [
       "array([[61., 31., 23.],\n",
       "       [96., 77., 26.],\n",
       "       [84., 46., 35.]])"
      ]
     },
     "execution_count": 19,
     "metadata": {},
     "output_type": "execute_result"
    }
   ],
   "source": [
    "a1 = np.random.random((3,3))\n",
    "a1 = np.round(a1*100)\n",
    "a1"
   ]
  },
  {
   "cell_type": "code",
   "execution_count": 20,
   "id": "6729e2a3-31a8-4a2f-8c58-7cf89a3fe1a4",
   "metadata": {},
   "outputs": [
    {
     "data": {
      "text/plain": [
       "96.0"
      ]
     },
     "execution_count": 20,
     "metadata": {},
     "output_type": "execute_result"
    }
   ],
   "source": [
    "# Max/Min/prod/Sum \n",
    "np.max(a1)"
   ]
  },
  {
   "cell_type": "code",
   "execution_count": 21,
   "id": "5cecb0a3-0701-4751-9ba4-8e47cd58a04a",
   "metadata": {},
   "outputs": [
    {
     "data": {
      "text/plain": [
       "array([23., 26., 35.])"
      ]
     },
     "execution_count": 21,
     "metadata": {},
     "output_type": "execute_result"
    }
   ],
   "source": [
    "np.min(a1,axis=1)\n",
    "# 0 -> Column and 1 -> Row"
   ]
  },
  {
   "cell_type": "code",
   "execution_count": 22,
   "id": "a7a01337-b519-49f1-94f5-9ac989348d30",
   "metadata": {},
   "outputs": [
    {
     "data": {
      "text/plain": [
       "53.22222222222222"
      ]
     },
     "execution_count": 22,
     "metadata": {},
     "output_type": "execute_result"
    }
   ],
   "source": [
    "# mean/medium/std/var\n",
    "np.mean(a1)\n"
   ]
  },
  {
   "cell_type": "code",
   "execution_count": 23,
   "id": "6252b640-3ad0-4b6f-8ec8-ccfa7fcb4513",
   "metadata": {},
   "outputs": [
    {
     "data": {
      "text/plain": [
       "array([[ 42,  48,  54],\n",
       "       [114, 136, 158],\n",
       "       [186, 224, 262]])"
      ]
     },
     "execution_count": 23,
     "metadata": {},
     "output_type": "execute_result"
    }
   ],
   "source": [
    "# Dot product of matrixes\n",
    "\n",
    "a1 = np.arange(12).reshape(3,4)\n",
    "a2 = np.arange(12).reshape(4,3)\n",
    "\n",
    "np.dot(a1,a2)"
   ]
  },
  {
   "cell_type": "code",
   "execution_count": null,
   "id": "130ab97d-cc04-426e-b11f-cd28cd6084e1",
   "metadata": {},
   "outputs": [],
   "source": []
  }
 ],
 "metadata": {
  "kernelspec": {
   "display_name": "Python 3 (ipykernel)",
   "language": "python",
   "name": "python3"
  },
  "language_info": {
   "codemirror_mode": {
    "name": "ipython",
    "version": 3
   },
   "file_extension": ".py",
   "mimetype": "text/x-python",
   "name": "python",
   "nbconvert_exporter": "python",
   "pygments_lexer": "ipython3",
   "version": "3.12.7"
  }
 },
 "nbformat": 4,
 "nbformat_minor": 5
}
